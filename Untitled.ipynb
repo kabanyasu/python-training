{
 "cells": [
  {
   "cell_type": "code",
   "execution_count": 32,
   "metadata": {},
   "outputs": [],
   "source": [
    "def main():\n",
    "    kyuyo = calc_employment_income\n",
    "    print(kyuyo)\n",
    "\n",
    "def calc_employment_income():\n",
    "    income = int(input(\"今年度の給与額はいくらですか？\"))\n",
    "    employment_income = income - deducation(income)\n",
    "    return employment_income\n",
    "    \n",
    "def deducation(income):\n",
    "    if income > 10000000:\n",
    "        return 2200000\n",
    "    if income > 6600000:\n",
    "        return income * 0.1 + 1200000\n",
    "    if income > 3600000:\n",
    "        return income * 0.2 + 540000\n",
    "    if income > 1800000:\n",
    "        return income * 0.3 +180000\n",
    "    if income > 1625000:\n",
    "        return income * 0.4\n",
    "    return 650000\n",
    "\n",
    "def calc_business_income():\n",
    "    pass"
   ]
  },
  {
   "cell_type": "code",
   "execution_count": 34,
   "metadata": {},
   "outputs": [
    {
     "name": "stdout",
     "output_type": "stream",
     "text": [
      "今年度の給与額はいくらですか？2000000\n"
     ]
    },
    {
     "data": {
      "text/plain": [
       "1220000.0"
      ]
     },
     "execution_count": 34,
     "metadata": {},
     "output_type": "execute_result"
    }
   ],
   "source": [
    "calc_employment_income()"
   ]
  },
  {
   "cell_type": "code",
   "execution_count": 25,
   "metadata": {},
   "outputs": [
    {
     "name": "stdout",
     "output_type": "stream",
     "text": [
      "今年度の給与額はいくらですか？1200000\n"
     ]
    },
    {
     "data": {
      "text/plain": [
       "550000"
      ]
     },
     "execution_count": 25,
     "metadata": {},
     "output_type": "execute_result"
    }
   ],
   "source": [
    "calc_employment_income()"
   ]
  },
  {
   "cell_type": "code",
   "execution_count": 20,
   "metadata": {},
   "outputs": [
    {
     "name": "stdout",
     "output_type": "stream",
     "text": [
      "<function calc_employment_income at 0x107a67f28>\n"
     ]
    }
   ],
   "source": [
    "main()"
   ]
  },
  {
   "cell_type": "code",
   "execution_count": null,
   "metadata": {},
   "outputs": [],
   "source": []
  }
 ],
 "metadata": {
  "kernelspec": {
   "display_name": "Python 3",
   "language": "python",
   "name": "python3"
  },
  "language_info": {
   "codemirror_mode": {
    "name": "ipython",
    "version": 3
   },
   "file_extension": ".py",
   "mimetype": "text/x-python",
   "name": "python",
   "nbconvert_exporter": "python",
   "pygments_lexer": "ipython3",
   "version": "3.6.5"
  }
 },
 "nbformat": 4,
 "nbformat_minor": 2
}
